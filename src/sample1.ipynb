{
 "metadata": {
  "language_info": {
   "codemirror_mode": {
    "name": "ipython",
    "version": 3
   },
   "file_extension": ".py",
   "mimetype": "text/x-python",
   "name": "python",
   "nbconvert_exporter": "python",
   "pygments_lexer": "ipython3",
   "version": "3.8.6-final"
  },
  "orig_nbformat": 2,
  "kernelspec": {
   "name": "python3",
   "display_name": "Python 3",
   "language": "python"
  }
 },
 "nbformat": 4,
 "nbformat_minor": 2,
 "cells": [
  {
   "cell_type": "code",
   "execution_count": 1,
   "metadata": {},
   "outputs": [
    {
     "output_type": "stream",
     "name": "stderr",
     "text": [
      "2021-01-18 12:22:38,104\tINFO services.py:1169 -- View the Ray dashboard at \u001b[1m\u001b[32mhttp://127.0.0.1:8266\u001b[39m\u001b[22m\n"
     ]
    },
    {
     "output_type": "execute_result",
     "data": {
      "text/plain": [
       "{'node_ip_address': '192.168.29.242',\n",
       " 'raylet_ip_address': '192.168.29.242',\n",
       " 'redis_address': '192.168.29.242:32206',\n",
       " 'object_store_address': '/tmp/ray/session_2021-01-18_12-22-35_727929_54659/sockets/plasma_store',\n",
       " 'raylet_socket_name': '/tmp/ray/session_2021-01-18_12-22-35_727929_54659/sockets/raylet',\n",
       " 'webui_url': '127.0.0.1:8266',\n",
       " 'session_dir': '/tmp/ray/session_2021-01-18_12-22-35_727929_54659',\n",
       " 'metrics_export_port': 65433,\n",
       " 'node_id': '79b1f3d6929a4cf2a309a4fc97c15e12697fb4263304f64e0c60fdbf'}"
      ]
     },
     "metadata": {},
     "execution_count": 1
    }
   ],
   "source": [
    "import ray\n",
    "import json\n",
    "\n",
    "object_store_memory = int(0.2 * ray.utils.get_system_memory())\n",
    "ray.init(_system_config={\n",
    "        \"automatic_object_spilling_enabled\": True,\n",
    "        \"object_spilling_config\": json.dumps(\n",
    "            {\"type\": \"filesystem\", \"params\": {\"directory_path\": \"/tmp/spill\"}},\n",
    "        )\n",
    "    }, num_cpus=5,\n",
    "            ignore_reinit_error=True,\n",
    "            object_store_memory=object_store_memory\n",
    "        )"
   ]
  },
  {
   "cell_type": "code",
   "execution_count": 6,
   "metadata": {},
   "outputs": [
    {
     "output_type": "execute_result",
     "data": {
      "text/plain": [
       "'http://127.0.0.1:8265'"
      ]
     },
     "metadata": {},
     "execution_count": 6
    }
   ],
   "source": [
    "'http://' + ray.get_dashboard_url()"
   ]
  },
  {
   "cell_type": "code",
   "execution_count": 2,
   "metadata": {},
   "outputs": [],
   "source": [
    "ray.shutdown()"
   ]
  },
  {
   "cell_type": "code",
   "execution_count": 1,
   "metadata": {},
   "outputs": [
    {
     "output_type": "stream",
     "name": "stdout",
     "text": [
      "CPU times: user 1min 16s, sys: 7.63 s, total: 1min 24s\nWall time: 1min 16s\n"
     ]
    },
    {
     "output_type": "execute_result",
     "data": {
      "text/plain": [
       "['/tmp/data/sample_textfile_dask/0.part',\n",
       " '/tmp/data/sample_textfile_dask/1.part',\n",
       " '/tmp/data/sample_textfile_dask/2.part',\n",
       " '/tmp/data/sample_textfile_dask/3.part',\n",
       " '/tmp/data/sample_textfile_dask/4.part',\n",
       " '/tmp/data/sample_textfile_dask/5.part',\n",
       " '/tmp/data/sample_textfile_dask/6.part',\n",
       " '/tmp/data/sample_textfile_dask/7.part',\n",
       " '/tmp/data/sample_textfile_dask/8.part',\n",
       " '/tmp/data/sample_textfile_dask/9.part']"
      ]
     },
     "metadata": {},
     "execution_count": 1
    }
   ],
   "source": [
    "%%time\n",
    "import dask.dataframe as dd\n",
    "\n",
    "df = dd.read_csv('/tmp/data/5m_Sales_Records.csv')                          \n",
    "\n",
    "df.to_csv('/tmp/data/sample_textfile_dask')"
   ]
  },
  {
   "cell_type": "code",
   "execution_count": null,
   "metadata": {},
   "outputs": [],
   "source": []
  }
 ]
}
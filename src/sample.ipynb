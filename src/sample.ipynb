{
 "metadata": {
  "language_info": {
   "codemirror_mode": {
    "name": "ipython",
    "version": 3
   },
   "file_extension": ".py",
   "mimetype": "text/x-python",
   "name": "python",
   "nbconvert_exporter": "python",
   "pygments_lexer": "ipython3",
   "version": "3.7.3-final"
  },
  "orig_nbformat": 2,
  "kernelspec": {
   "name": "python3",
   "display_name": "Python 3",
   "language": "python"
  }
 },
 "nbformat": 4,
 "nbformat_minor": 2,
 "cells": [
  {
   "source": [
    "import dask\n",
    "import dask.dataframe as dd\n",
    "import timeit\n",
    "import readtextfile\n",
    "import writeparquetfile\n",
    "import writetextfile"
   ],
   "cell_type": "code",
   "metadata": {},
   "execution_count": 1,
   "outputs": []
  },
  {
   "cell_type": "code",
   "execution_count": 2,
   "metadata": {},
   "outputs": [
    {
     "output_type": "stream",
     "name": "stdout",
     "text": [
      "0.028260373999998478 Seconds Needed for read file\n"
     ]
    }
   ],
   "source": [
    "df = readtextfile.ReadTextFile(ipfile='/Users/sripri/Downloads/1500000_Sales_Records.csv',\n",
    "                                   ipschemafile='/Users/sripri/Downloads/schema/sample_csv_file.txt',\n",
    "                                   delimiter=',', skiprows=1).read_using_dask()"
   ]
  },
  {
   "cell_type": "code",
   "execution_count": 3,
   "metadata": {},
   "outputs": [
    {
     "output_type": "execute_result",
     "data": {
      "text/plain": [
       "4"
      ]
     },
     "metadata": {},
     "execution_count": 3
    }
   ],
   "source": [
    "df.npartitions"
   ]
  },
  {
   "cell_type": "code",
   "execution_count": 4,
   "metadata": {},
   "outputs": [
    {
     "output_type": "stream",
     "name": "stdout",
     "text": [
      "0.030437292000002003 Seconds Needed for read file\n"
     ]
    }
   ],
   "source": [
    "df1 = readtextfile.ReadTextFile(ipfile='/Users/sripri/Downloads/sample_textfile.gzip',\n",
    "                                   ipschemafile='/Users/sripri/Downloads/schema/sample_csv_file.txt',\n",
    "                                   delimiter='|', skiprows=0, compression='gzip').read_using_dask()"
   ]
  },
  {
   "cell_type": "code",
   "execution_count": 5,
   "metadata": {},
   "outputs": [
    {
     "output_type": "execute_result",
     "data": {
      "text/plain": [
       "4"
      ]
     },
     "metadata": {},
     "execution_count": 5
    }
   ],
   "source": [
    "df1.npartitions"
   ]
  },
  {
   "cell_type": "code",
   "execution_count": null,
   "metadata": {},
   "outputs": [],
   "source": []
  }
 ]
}
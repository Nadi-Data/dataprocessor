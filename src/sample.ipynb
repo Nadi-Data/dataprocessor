{
 "metadata": {
  "language_info": {
   "codemirror_mode": {
    "name": "ipython",
    "version": 3
   },
   "file_extension": ".py",
   "mimetype": "text/x-python",
   "name": "python",
   "nbconvert_exporter": "python",
   "pygments_lexer": "ipython3",
   "version": "3.7.3-final"
  },
  "orig_nbformat": 2,
  "kernelspec": {
   "name": "python3",
   "display_name": "Python 3",
   "language": "python"
  }
 },
 "nbformat": 4,
 "nbformat_minor": 2,
 "cells": [
  {
   "source": [
    "import dask\n",
    "import dask.dataframe as dd\n",
    "import timeit\n",
    "import readtextfile\n",
    "import writeparquetfile\n",
    "import writetextfile"
   ],
   "cell_type": "code",
   "metadata": {},
   "execution_count": 1,
   "outputs": []
  },
  {
   "cell_type": "code",
   "execution_count": 2,
   "metadata": {},
   "outputs": [
    {
     "output_type": "stream",
     "name": "stdout",
     "text": [
      "Time taken : 0.025487456999996994 seconds for reading file '/Users/sripri/Downloads/1500000_Sales_Records.csv'\n"
     ]
    }
   ],
   "source": [
    "df = readtextfile.ReadTextFile(ipfile='/Users/sripri/Downloads/1500000_Sales_Records.csv',\n",
    "                                   ipschemafile='/Users/sripri/Downloads/schema/sample_csv_file.txt',\n",
    "                                   delimiter=',', skiprows=1).read_using_dask()"
   ]
  },
  {
   "cell_type": "code",
   "execution_count": 3,
   "metadata": {},
   "outputs": [
    {
     "output_type": "execute_result",
     "data": {
      "text/plain": [
       "                         Region           Country  Item_Type Sales_Channel  \\\n",
       "0            Sub-Saharan Africa      South Africa     Fruits       Offline   \n",
       "1  Middle East and North Africa           Morocco    Clothes        Online   \n",
       "2         Australia and Oceania  Papua New Guinea       Meat       Offline   \n",
       "3            Sub-Saharan Africa          Djibouti    Clothes       Offline   \n",
       "4                        Europe          Slovakia  Beverages       Offline   \n",
       "\n",
       "  Order_Priority  Order_Date   Order_ID   Ship_Date  Units_Sold  Unit_Price  \\\n",
       "0              M   7/27/2012  443368995   7/28/2012        1593        9.33   \n",
       "1              M   9/14/2013  667593514  10/19/2013        4611      109.28   \n",
       "2              M   5/15/2015  940995585    6/4/2015         360      421.89   \n",
       "3              H   5/17/2017  880811536    7/2/2017         562      109.28   \n",
       "4              L  10/26/2016  174590194   12/4/2016        3973       47.45   \n",
       "\n",
       "   Unit_Cost  Total_Revenue  Total_Cost  Total_Profit  \n",
       "0       6.92       14862.69    11023.56       3839.13  \n",
       "1      35.84      503890.08   165258.24     338631.84  \n",
       "2     364.69      151880.40   131288.40      20592.00  \n",
       "3      35.84       61415.36    20142.08      41273.28  \n",
       "4      31.79      188518.85   126301.67      62217.18  "
      ],
      "text/html": "<div>\n<style scoped>\n    .dataframe tbody tr th:only-of-type {\n        vertical-align: middle;\n    }\n\n    .dataframe tbody tr th {\n        vertical-align: top;\n    }\n\n    .dataframe thead th {\n        text-align: right;\n    }\n</style>\n<table border=\"1\" class=\"dataframe\">\n  <thead>\n    <tr style=\"text-align: right;\">\n      <th></th>\n      <th>Region</th>\n      <th>Country</th>\n      <th>Item_Type</th>\n      <th>Sales_Channel</th>\n      <th>Order_Priority</th>\n      <th>Order_Date</th>\n      <th>Order_ID</th>\n      <th>Ship_Date</th>\n      <th>Units_Sold</th>\n      <th>Unit_Price</th>\n      <th>Unit_Cost</th>\n      <th>Total_Revenue</th>\n      <th>Total_Cost</th>\n      <th>Total_Profit</th>\n    </tr>\n  </thead>\n  <tbody>\n    <tr>\n      <th>0</th>\n      <td>Sub-Saharan Africa</td>\n      <td>South Africa</td>\n      <td>Fruits</td>\n      <td>Offline</td>\n      <td>M</td>\n      <td>7/27/2012</td>\n      <td>443368995</td>\n      <td>7/28/2012</td>\n      <td>1593</td>\n      <td>9.33</td>\n      <td>6.92</td>\n      <td>14862.69</td>\n      <td>11023.56</td>\n      <td>3839.13</td>\n    </tr>\n    <tr>\n      <th>1</th>\n      <td>Middle East and North Africa</td>\n      <td>Morocco</td>\n      <td>Clothes</td>\n      <td>Online</td>\n      <td>M</td>\n      <td>9/14/2013</td>\n      <td>667593514</td>\n      <td>10/19/2013</td>\n      <td>4611</td>\n      <td>109.28</td>\n      <td>35.84</td>\n      <td>503890.08</td>\n      <td>165258.24</td>\n      <td>338631.84</td>\n    </tr>\n    <tr>\n      <th>2</th>\n      <td>Australia and Oceania</td>\n      <td>Papua New Guinea</td>\n      <td>Meat</td>\n      <td>Offline</td>\n      <td>M</td>\n      <td>5/15/2015</td>\n      <td>940995585</td>\n      <td>6/4/2015</td>\n      <td>360</td>\n      <td>421.89</td>\n      <td>364.69</td>\n      <td>151880.40</td>\n      <td>131288.40</td>\n      <td>20592.00</td>\n    </tr>\n    <tr>\n      <th>3</th>\n      <td>Sub-Saharan Africa</td>\n      <td>Djibouti</td>\n      <td>Clothes</td>\n      <td>Offline</td>\n      <td>H</td>\n      <td>5/17/2017</td>\n      <td>880811536</td>\n      <td>7/2/2017</td>\n      <td>562</td>\n      <td>109.28</td>\n      <td>35.84</td>\n      <td>61415.36</td>\n      <td>20142.08</td>\n      <td>41273.28</td>\n    </tr>\n    <tr>\n      <th>4</th>\n      <td>Europe</td>\n      <td>Slovakia</td>\n      <td>Beverages</td>\n      <td>Offline</td>\n      <td>L</td>\n      <td>10/26/2016</td>\n      <td>174590194</td>\n      <td>12/4/2016</td>\n      <td>3973</td>\n      <td>47.45</td>\n      <td>31.79</td>\n      <td>188518.85</td>\n      <td>126301.67</td>\n      <td>62217.18</td>\n    </tr>\n  </tbody>\n</table>\n</div>"
     },
     "metadata": {},
     "execution_count": 3
    }
   ],
   "source": [
    "df.head()"
   ]
  },
  {
   "cell_type": "code",
   "execution_count": 5,
   "metadata": {},
   "outputs": [
    {
     "output_type": "stream",
     "name": "stdout",
     "text": [
      "Time taken : 0.005693652999980259 seconds for reading header '/Users/sripri/Downloads/sample_textfile.txt'\n"
     ]
    }
   ],
   "source": [
    "df_header = readtextfile.ReadTextFile(ipfile='/Users/sripri/Downloads/sample_textfile.txt',\n",
    "                                   ipschemafile='/Users/sripri/Downloads/schema/sample_csv_file.txt',\n",
    "                                   delimiter='|').read_using_dask_header()"
   ]
  },
  {
   "cell_type": "code",
   "execution_count": 6,
   "metadata": {},
   "outputs": [
    {
     "output_type": "execute_result",
     "data": {
      "text/plain": [
       "               Region       Country Item_Type Sales_Channel Order_Priority  \\\n",
       "0  Sub-Saharan Africa  South Africa    Fruits       Offline              M   \n",
       "\n",
       "  Order_Date   Order_ID  Ship_Date  Units_Sold  Unit_Price  Unit_Cost  \\\n",
       "0  7/27/2012  443368995  7/28/2012        1593        9.33       6.92   \n",
       "\n",
       "   Total_Revenue  Total_Cost  Total_Profit  \n",
       "0       14862.69    11023.56       3839.13  "
      ],
      "text/html": "<div>\n<style scoped>\n    .dataframe tbody tr th:only-of-type {\n        vertical-align: middle;\n    }\n\n    .dataframe tbody tr th {\n        vertical-align: top;\n    }\n\n    .dataframe thead th {\n        text-align: right;\n    }\n</style>\n<table border=\"1\" class=\"dataframe\">\n  <thead>\n    <tr style=\"text-align: right;\">\n      <th></th>\n      <th>Region</th>\n      <th>Country</th>\n      <th>Item_Type</th>\n      <th>Sales_Channel</th>\n      <th>Order_Priority</th>\n      <th>Order_Date</th>\n      <th>Order_ID</th>\n      <th>Ship_Date</th>\n      <th>Units_Sold</th>\n      <th>Unit_Price</th>\n      <th>Unit_Cost</th>\n      <th>Total_Revenue</th>\n      <th>Total_Cost</th>\n      <th>Total_Profit</th>\n    </tr>\n  </thead>\n  <tbody>\n    <tr>\n      <th>0</th>\n      <td>Sub-Saharan Africa</td>\n      <td>South Africa</td>\n      <td>Fruits</td>\n      <td>Offline</td>\n      <td>M</td>\n      <td>7/27/2012</td>\n      <td>443368995</td>\n      <td>7/28/2012</td>\n      <td>1593</td>\n      <td>9.33</td>\n      <td>6.92</td>\n      <td>14862.69</td>\n      <td>11023.56</td>\n      <td>3839.13</td>\n    </tr>\n  </tbody>\n</table>\n</div>"
     },
     "metadata": {},
     "execution_count": 6
    }
   ],
   "source": [
    "df_header.head()"
   ]
  },
  {
   "cell_type": "code",
   "execution_count": 8,
   "metadata": {},
   "outputs": [
    {
     "output_type": "stream",
     "name": "stdout",
     "text": [
      "Time taken : 0.056259592000060366 seconds for reading detail records in a file '/Users/sripri/Downloads/sample_textfile.txt'\n"
     ]
    }
   ],
   "source": [
    "df_detail = readtextfile.ReadTextFile(ipfile='/Users/sripri/Downloads/sample_textfile.txt',\n",
    "                                          ipschemafile='/Users/sripri/Downloads/schema/sample_csv_file.txt',\n",
    "                                          skiprows=1,\n",
    "                                          skipfooter=1,\n",
    "                                          delimiter='|').read_using_dask_detail()"
   ]
  },
  {
   "cell_type": "code",
   "execution_count": 9,
   "metadata": {},
   "outputs": [
    {
     "output_type": "execute_result",
     "data": {
      "text/plain": [
       "                         Region           Country  Item_Type Sales_Channel  \\\n",
       "0  Middle East and North Africa           Morocco    Clothes        Online   \n",
       "1         Australia and Oceania  Papua New Guinea       Meat       Offline   \n",
       "2            Sub-Saharan Africa          Djibouti    Clothes       Offline   \n",
       "3                        Europe          Slovakia  Beverages       Offline   \n",
       "4                          Asia         Sri Lanka     Fruits        Online   \n",
       "\n",
       "  Order_Priority  Order_Date   Order_ID   Ship_Date  Units_Sold  Unit_Price  \\\n",
       "0              M   9/14/2013  667593514  10/19/2013        4611      109.28   \n",
       "1              M   5/15/2015  940995585    6/4/2015         360      421.89   \n",
       "2              H   5/17/2017  880811536    7/2/2017         562      109.28   \n",
       "3              L  10/26/2016  174590194   12/4/2016        3973       47.45   \n",
       "4              L   11/7/2011  830192887  12/18/2011        1379        9.33   \n",
       "\n",
       "   Unit_Cost  Total_Revenue  Total_Cost  Total_Profit  \n",
       "0      35.84      503890.08   165258.24     338631.84  \n",
       "1     364.69      151880.40   131288.40      20592.00  \n",
       "2      35.84       61415.36    20142.08      41273.28  \n",
       "3      31.79      188518.85   126301.67      62217.18  \n",
       "4       6.92       12866.07     9542.68       3323.39  "
      ],
      "text/html": "<div>\n<style scoped>\n    .dataframe tbody tr th:only-of-type {\n        vertical-align: middle;\n    }\n\n    .dataframe tbody tr th {\n        vertical-align: top;\n    }\n\n    .dataframe thead th {\n        text-align: right;\n    }\n</style>\n<table border=\"1\" class=\"dataframe\">\n  <thead>\n    <tr style=\"text-align: right;\">\n      <th></th>\n      <th>Region</th>\n      <th>Country</th>\n      <th>Item_Type</th>\n      <th>Sales_Channel</th>\n      <th>Order_Priority</th>\n      <th>Order_Date</th>\n      <th>Order_ID</th>\n      <th>Ship_Date</th>\n      <th>Units_Sold</th>\n      <th>Unit_Price</th>\n      <th>Unit_Cost</th>\n      <th>Total_Revenue</th>\n      <th>Total_Cost</th>\n      <th>Total_Profit</th>\n    </tr>\n  </thead>\n  <tbody>\n    <tr>\n      <th>0</th>\n      <td>Middle East and North Africa</td>\n      <td>Morocco</td>\n      <td>Clothes</td>\n      <td>Online</td>\n      <td>M</td>\n      <td>9/14/2013</td>\n      <td>667593514</td>\n      <td>10/19/2013</td>\n      <td>4611</td>\n      <td>109.28</td>\n      <td>35.84</td>\n      <td>503890.08</td>\n      <td>165258.24</td>\n      <td>338631.84</td>\n    </tr>\n    <tr>\n      <th>1</th>\n      <td>Australia and Oceania</td>\n      <td>Papua New Guinea</td>\n      <td>Meat</td>\n      <td>Offline</td>\n      <td>M</td>\n      <td>5/15/2015</td>\n      <td>940995585</td>\n      <td>6/4/2015</td>\n      <td>360</td>\n      <td>421.89</td>\n      <td>364.69</td>\n      <td>151880.40</td>\n      <td>131288.40</td>\n      <td>20592.00</td>\n    </tr>\n    <tr>\n      <th>2</th>\n      <td>Sub-Saharan Africa</td>\n      <td>Djibouti</td>\n      <td>Clothes</td>\n      <td>Offline</td>\n      <td>H</td>\n      <td>5/17/2017</td>\n      <td>880811536</td>\n      <td>7/2/2017</td>\n      <td>562</td>\n      <td>109.28</td>\n      <td>35.84</td>\n      <td>61415.36</td>\n      <td>20142.08</td>\n      <td>41273.28</td>\n    </tr>\n    <tr>\n      <th>3</th>\n      <td>Europe</td>\n      <td>Slovakia</td>\n      <td>Beverages</td>\n      <td>Offline</td>\n      <td>L</td>\n      <td>10/26/2016</td>\n      <td>174590194</td>\n      <td>12/4/2016</td>\n      <td>3973</td>\n      <td>47.45</td>\n      <td>31.79</td>\n      <td>188518.85</td>\n      <td>126301.67</td>\n      <td>62217.18</td>\n    </tr>\n    <tr>\n      <th>4</th>\n      <td>Asia</td>\n      <td>Sri Lanka</td>\n      <td>Fruits</td>\n      <td>Online</td>\n      <td>L</td>\n      <td>11/7/2011</td>\n      <td>830192887</td>\n      <td>12/18/2011</td>\n      <td>1379</td>\n      <td>9.33</td>\n      <td>6.92</td>\n      <td>12866.07</td>\n      <td>9542.68</td>\n      <td>3323.39</td>\n    </tr>\n  </tbody>\n</table>\n</div>"
     },
     "metadata": {},
     "execution_count": 9
    }
   ],
   "source": [
    "df_detail.head()"
   ]
  },
  {
   "cell_type": "code",
   "execution_count": 4,
   "metadata": {},
   "outputs": [
    {
     "output_type": "stream",
     "name": "stdout",
     "text": [
      "0.030437292000002003 Seconds Needed for read file\n"
     ]
    }
   ],
   "source": [
    "df1 = readtextfile.ReadTextFile(ipfile='/Users/sripri/Downloads/sample_textfile.gzip',\n",
    "                                   ipschemafile='/Users/sripri/Downloads/schema/sample_csv_file.txt',\n",
    "                                   delimiter='|', skiprows=0, compression='gzip').read_using_dask()"
   ]
  },
  {
   "cell_type": "code",
   "execution_count": 5,
   "metadata": {},
   "outputs": [
    {
     "output_type": "execute_result",
     "data": {
      "text/plain": [
       "4"
      ]
     },
     "metadata": {},
     "execution_count": 5
    }
   ],
   "source": [
    "df1.npartitions"
   ]
  },
  {
   "cell_type": "code",
   "execution_count": null,
   "metadata": {},
   "outputs": [],
   "source": []
  }
 ]
}